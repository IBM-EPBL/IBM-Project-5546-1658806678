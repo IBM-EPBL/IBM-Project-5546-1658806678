{
  "cells": [
    {
      "cell_type": "code",
      "execution_count": null,
      "metadata": {
        "id": "4Tfs8qyGq30q"
      },
      "outputs": [],
      "source": [
        "from keras.preprocessing.image import ImageDataGenerator"
      ]
    },
    {
      "cell_type": "code",
      "execution_count": null,
      "metadata": {
        "id": "arwDIAeDsAFK"
      },
      "outputs": [],
      "source": [
        "train_datagen=ImageDataGenerator(rescale=1./255,shear_range=0.2,zoom_range=0.2,horizontal_flip=True)\n",
        "test_datagen=ImageDataGenerator(rescale=1./255)"
      ]
    },
    {
      "cell_type": "code",
      "execution_count": null,
      "metadata": {
        "id": "3tAqnv-Vtea7"
      },
      "outputs": [],
      "source": [
        "x_train=train_datagen.flow_from_directory(\n",
        "    r'C:\\Users\\pavan\\Desktop\\AI Image_Processing\\Data_Set',\n",
        "    target_size=(64,64),batch_size=5,color_mode='rgb',class_mode='sparse')\n",
        "\n",
        "x_test=test_datagen.flow_from_directory(\n",
        "    r'C:\\Users\\pavan\\Desktop\\AI Image_Processing\\Data_Set',\n",
        "     target_size=(64,64),batch_size=5,color_mode='rgb',class_mode='sparse')\n"
      ]
    },
    {
      "cell_type": "code",
      "execution_count": null,
      "metadata": {
        "id": "KOiObaoSKj-d"
      },
      "outputs": [],
      "source": [
        "print(x_train.class_indices)\n"
      ]
    },
    {
      "cell_type": "code",
      "execution_count": null,
      "metadata": {
        "id": "QVqiyOlBKtI3"
      },
      "outputs": [],
      "source": [
        "print(x_test.class_indices)"
      ]
    },
    {
      "cell_type": "code",
      "execution_count": null,
      "metadata": {
        "id": "B8LNAgbFK0OH"
      },
      "outputs": [],
      "source": [
        "from collections import Counter as c\n",
        "c(x_train.labels)"
      ]
    },
    {
      "cell_type": "code",
      "execution_count": null,
      "metadata": {
        "id": "9Jd5sR-KLAD_"
      },
      "outputs": [],
      "source": [
        "import numpy as np\n",
        "import tensorflow\n",
        "from tensorflow.keras.models import Sequential\n",
        "from tensorflow.keras import layers\n",
        "from tensorflow.keras.layers import Dense,Flatten\n",
        "from tensorflow.keras.layers import Conv2D,MaxPooling2D,Dropout\n",
        "from keras.Preprocessing.image import ImageDataGenerator"
      ]
    },
    {
      "cell_type": "code",
      "execution_count": null,
      "metadata": {
        "id": "0D1KlofcOgno"
      },
      "outputs": [],
      "source": [
        "model=Sequential()"
      ]
    },
    {
      "cell_type": "markdown",
      "metadata": {
        "id": "SMywFx8HPYCI"
      },
      "source": [
        "# Creating the model"
      ]
    },
    {
      "cell_type": "code",
      "execution_count": null,
      "metadata": {
        "id": "YBy0kmjZOwN2"
      },
      "outputs": [],
      "source": [
        "classifier=Sequential()\n",
        "classifier.add(Conv2D(32,(3,3),input_shape=(64,64,3),activation='relu'))\n",
        "classifier.add(MaxPooling2D(pool_size=(2,2)))\n",
        "classifier.add(Cov2D(32,(3,3),activation='relu'))\n",
        "classifier.add(MaxPooling2D(pool_size=(2,2)))\n",
        "classifier.add(Flatten())"
      ]
    },
    {
      "cell_type": "code",
      "execution_count": null,
      "metadata": {
        "id": "36wwpQN9QKKP"
      },
      "outputs": [],
      "source": [
        "classifier.summary()"
      ]
    },
    {
      "cell_type": "markdown",
      "metadata": {
        "id": "5KmvVHcSQjiE"
      },
      "source": [
        "# Compiling the model"
      ]
    },
    {
      "cell_type": "code",
      "execution_count": null,
      "metadata": {
        "id": "CUryXBxHQa07"
      },
      "outputs": [],
      "source": [
        "classifier.compile(optimizer='adam',loss='sparse_categorical_crossentropy',metrics=['accuracy'])"
      ]
    },
    {
      "cell_type": "markdown",
      "metadata": {
        "id": "1h5noSycRJBL"
      },
      "source": [
        "# Fitting the model"
      ]
    },
    {
      "cell_type": "code",
      "execution_count": null,
      "metadata": {
        "id": "M_CtlrNxROcO"
      },
      "outputs": [],
      "source": [
        "classifier.fit_generator(\n",
        "    generator=x_train,steps_per_epoch=len(x_train),\n",
        "    epochs=20,validation_data=x_test,validation_steps=len(x_test))"
      ]
    },
    {
      "cell_type": "markdown",
      "metadata": {
        "id": "5UeLK0hcR15k"
      },
      "source": [
        "# saving model\n"
      ]
    },
    {
      "cell_type": "code",
      "execution_count": null,
      "metadata": {
        "id": "BzpXzXrORwdH"
      },
      "outputs": [],
      "source": [
        "classifier.save('nurtrition.h5')"
      ]
    },
    {
      "cell_type": "markdown",
      "metadata": {
        "id": "ZG0iSEHnSF2T"
      },
      "source": [
        "# Predicting results"
      ]
    },
    {
      "cell_type": "code",
      "execution_count": null,
      "metadata": {
        "id": "lHDcKBFaR0M5"
      },
      "outputs": [],
      "source": [
        "from tesorflow.keras.models import load_model\n",
        "from keras.preprocessing import image\n",
        "model =load_model(\"nutrition.h5\")"
      ]
    },
    {
      "cell_type": "code",
      "execution_count": null,
      "metadata": {
        "id": "ftW4AHLQShvn"
      },
      "outputs": [],
      "source": [
        "img=image.load_img(r\"C:\\Users\\pavan\\Desktop\\AI Image_Processing\\Data_Set\\\",\n",
        "                   grayscale=False,target_size=(64,64))\n",
        "x=image.img_to_array(img)\n",
        "x=np.expand_dims(x,axis=0)\n",
        "pred=model.predict_classes(x)\n",
        "pred"
      ]
    },
    {
      "cell_type": "code",
      "execution_count": null,
      "metadata": {
        "id": "bGLvQh8eTcNk"
      },
      "outputs": [],
      "source": [
        "index=['APPLES','BANANA','ORANGE','PINEAPPLE','WATERMELON']\n",
        "result=str(index[pred[0]])\n",
        "result"
      ]
    }
  ],
  "metadata": {
    "colab": {
      "collapsed_sections": [],
      "provenance": []
    },
    "kernelspec": {
      "display_name": "Python 3",
      "name": "python3"
    },
    "language_info": {
      "name": "python"
    }
  },
  "nbformat": 4,
  "nbformat_minor": 0
}
